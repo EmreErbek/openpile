{
 "cells": [
  {
   "cell_type": "code",
   "execution_count": 3,
   "metadata": {},
   "outputs": [
    {
     "data": {
      "text/plain": [
       "[<matplotlib.lines.Line2D at 0x196efcbadc8>]"
      ]
     },
     "execution_count": 3,
     "metadata": {},
     "output_type": "execute_result"
    },
    {
     "data": {
      "image/png": "[encoded data removed]",
      "text/plain": [
       "<Figure size 640x480 with 1 Axes>"
      ]
     },
     "metadata": {},
     "output_type": "display_data"
    }
   ],
   "source": [
    "from openpile.construct import Pile, Mesh\n",
    "from openpile.compute import lateral_loading\n",
    "\n",
    "import matplotlib.pyplot as plt\n",
    "\n",
    "# create pile\n",
    "pile = Pile(type='Circular', material='Steel', top_elevation=0, pile_sections={'length':[30],'diameter':[8], 'wall thickness':[0.08]})\n",
    "pile.create()\n",
    "# create mesh\n",
    "mesh = Mesh(pile=pile)\n",
    "mesh.create()\n",
    "# create point load\n",
    "mesh.set_support(elevation=-30,Tz=True, Ty=True, Rx=True)\n",
    "mesh.set_pointload(elevation=0,Py=100)\n",
    "u = lateral_loading(mesh)\n",
    "\n",
    "plt.plot(u[1::3], mesh.nodes_coordinates['z [m]'].values)\n"
   ]
  },
  {
   "cell_type": "code",
   "execution_count": null,
   "metadata": {},
   "outputs": [
    {
     "data": {
      "text/plain": [
       "5"
      ]
     },
     "execution_count": 2,
     "metadata": {},
     "output_type": "execute_result"
    }
   ],
   "source": [
    "import pandas as pd\n",
    "s = pd.Series([5,6,7,8])\n",
    "s.min()"
   ]
  },
  {
   "cell_type": "code",
   "execution_count": null,
   "metadata": {},
   "outputs": [],
   "source": [
    "from openpile.construct import Pile, Mesh\n",
    "\n",
    "#Check pile\n",
    "MP01 = Pile(type='Circular',\n",
    "            material='Steel',\n",
    "            top_elevation = 0,\n",
    "            pile_sections={\n",
    "                'length':[10,30],\n",
    "                'diameter':[9.5,7.5],\n",
    "                'wall thickness':[0.1, 0.08],\n",
    "            } \n",
    "        )\n",
    "# Create the pile secondary data\n",
    "MP01.create()\n",
    "# Print the pile data \n",
    "print(MP01.data)\n",
    "# print(MP01.E)\n",
    "# MP01.E = 250e6\n",
    "# print(MP01.E)\n",
    "# MP01.I = 1.11\n",
    "# print(MP01.data)\n",
    "# MP01.width = 2.22\n",
    "# print(MP01.data)\n",
    "# from openpile.utils.txt import txt_pile\n",
    "# print(txt_pile(MP01))\n",
    "MP01_mesh = Mesh(pile=MP01, element_type=\"Timoshenko\")\n",
    "MP01_mesh.create()\n",
    "print(MP01_mesh.element_properties)"
   ]
  },
  {
   "cell_type": "code",
   "execution_count": 18,
   "metadata": {},
   "outputs": [
    {
     "data": {
      "text/plain": [
       "array([[10. ],\n",
       "       [ 9.5],\n",
       "       [30. ],\n",
       "       [ 7.5]])"
      ]
     },
     "execution_count": 18,
     "metadata": {},
     "output_type": "execute_result"
    }
   ],
   "source": [
    "import pandas as pd\n",
    "pile_sections={\n",
    "                'length':[10,30],\n",
    "                'diameter':[9.5,7.5],\n",
    "                'wall thickness':[0.1, 0.08],\n",
    "            } \n",
    "\n",
    "df = pd.DataFrame(data=pile_sections)\n",
    "df[['length','diameter']].values.reshape(-1,1)"
   ]
  },
  {
   "cell_type": "code",
   "execution_count": 22,
   "metadata": {},
   "outputs": [
    {
     "data": {
      "text/plain": [
       "(array([0, 2], dtype=int64),)"
      ]
     },
     "execution_count": 22,
     "metadata": {},
     "output_type": "execute_result"
    }
   ],
   "source": [
    "import numpy as np\n",
    "a = np.array([True, False, True])\n",
    "b= np.where(a)\n",
    "b"
   ]
  }
 ],
 "metadata": {
  "kernelspec": {
   "display_name": ".venv",
   "language": "python",
   "name": "python3"
  },
  "language_info": {
   "codemirror_mode": {
    "name": "ipython",
    "version": 3
   },
   "file_extension": ".py",
   "mimetype": "text/x-python",
   "name": "python",
   "nbconvert_exporter": "python",
   "pygments_lexer": "ipython3",
   "version": "3.7.11"
  },
  "orig_nbformat": 4,
  "vscode": {
   "interpreter": {
    "hash": "cbaae394acf5e528bdcdac8f38f8f9c53f7fa63e5b576ba2affc58787d65d7fc"
   }
  }
 },
 "nbformat": 4,
 "nbformat_minor": 2
}
