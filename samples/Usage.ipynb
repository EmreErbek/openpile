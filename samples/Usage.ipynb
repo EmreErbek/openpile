{
 "cells": [
  {
   "attachments": {},
   "cell_type": "markdown",
   "metadata": {},
   "source": [
    "Usage that Openpile should have"
   ]
  },
  {
   "cell_type": "code",
   "execution_count": null,
   "metadata": {},
   "outputs": [],
   "source": [
    "import openpile as op\n",
    "\n",
    "#--------------------------------------------------------------------------------------\n",
    "MP01 = op.pile(\n",
    "    type='Tubular',   #infer that I is calculated by the followign eq. I = (Do**4 - Di**4)*pi/64\n",
    "    material='Steel',    #infer that E = 210e6 kPa\n",
    "    top_elevation=7.5,   #to ensure we know where we are\n",
    "    height_diameter_thickness=[  \n",
    "        [ 5, 10.0, 0.06],\n",
    "        [30, 10.0, 0.08],\n",
    "    ],\n",
    ")\n",
    "MP01.view_plot()\n",
    "MP01.view_table()\n",
    "#--------------------------------------------------------------------------------------\n",
    "BH01 = op.soilprofile(PISA=False, \n",
    "                      seabed_elevation = -20.0,\n",
    "                      water_elevation = 0.0,\n",
    "                      \n",
    "                      )\n",
    "\n",
    "BH01.add_layer(\n",
    "    name='01 - Sand',\n",
    "    model='API Sand',\n",
    "    bottom_elevation = -5,      #if None in top, raise error, if None in bottom, we only need top param.     \n",
    "    params={'phi':8.5, 'gamma':35.0}, #include data validator to ensure values are not crazy,\n",
    ")\n",
    "BH01.add_layer(\n",
    "    name='02 - Clay',\n",
    "    model='API Clay',\n",
    "    bottom_elevation = -5,\n",
    "    params={'gamma':8.5, 'Su':95.0, 'eps50':0.01},                  #include data validator to ensure values are not crazy\n",
    "    psf={'gamma':1.0,'Su':1.25,'eps50':1.0},\n",
    ")\n",
    "BH01.create_scour(                                                  #possibility to create scour hole\n",
    "    which='local' or 'global',\n",
    "    erosion_height=2.5\n",
    ")    \n",
    "BH01.view_plot()                                 #possibility to get a visual on the layers\n",
    "BH01.view_table()                                #possibility to see soil profile in table format\n",
    "#--------------------------------------------------------------------------------------\n",
    "model01 = op.model(\n",
    "    pile = MP01,\n",
    "    soil = BH01,\n",
    "    load_elevation = 0.0,\n",
    "    nelem_factor = 5,\n",
    "    element_type = 'lin2',\n",
    ")\n",
    "model01.generate_soil_springs()\n",
    "model01.soil_springs()\n",
    "\n",
    "model01.run_nonlinear(\n",
    "    shear = 5e3,\n",
    "    moment = 2503,\n",
    "    psf = True,\n",
    "    \n",
    ")\n",
    "\n",
    "\n",
    "\n"
   ]
  }
 ],
 "metadata": {
  "kernelspec": {
   "display_name": ".venv",
   "language": "python",
   "name": "python3"
  },
  "language_info": {
   "codemirror_mode": {
    "name": "ipython",
    "version": 3
   },
   "file_extension": ".py",
   "mimetype": "text/x-python",
   "name": "python",
   "nbconvert_exporter": "python",
   "pygments_lexer": "ipython3",
   "version": "3.7.11 (default, Jul 27 2021, 09:42:29) [MSC v.1916 64 bit (AMD64)]"
  },
  "orig_nbformat": 4,
  "vscode": {
   "interpreter": {
    "hash": "cbaae394acf5e528bdcdac8f38f8f9c53f7fa63e5b576ba2affc58787d65d7fc"
   }
  }
 },
 "nbformat": 4,
 "nbformat_minor": 2
}
