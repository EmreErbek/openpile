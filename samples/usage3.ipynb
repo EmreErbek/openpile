{
 "cells": [
  {
   "cell_type": "code",
   "execution_count": null,
   "metadata": {},
   "outputs": [],
   "source": [
    "# import libraries\n",
    "import matplotlib.pyplot as plt\n",
    "from openpile.construct import Pile, SoilProfile, Model, Layer\n",
    "from openpile.soilmodels import API_sand, API_clay\n",
    "from openpile.utils.py_curves import api_sand\n",
    "from openpile.analyses import simple_winkler_analysis\n"
   ]
  },
  {
   "cell_type": "code",
   "execution_count": null,
   "metadata": {},
   "outputs": [],
   "source": [
    "from openpile.construct import Pile, SoilProfile, Model, Layer\n",
    "from openpile.soilmodels import API_sand, API_clay\n",
    "\n",
    "# create pile\n",
    "pile = Pile.create(\n",
    "    kind=\"Circular\",\n",
    "    material=\"Steel\",\n",
    "    top_elevation=0,\n",
    "    pile_sections={\"length\": [40], \"diameter\": [2], \"wall thickness\": [0.08]},\n",
    ")\n",
    "\n",
    "# Create a 40m deep offshore Soil Profile with a 15m water column\n",
    "sp = SoilProfile(\n",
    "    name=\"Offshore Soil Profile\",\n",
    "    top_elevation=0,\n",
    "    water_elevation=15,\n",
    "    layers=[\n",
    "        Layer(\n",
    "            name=\"Layer 1 - medium dense sand\",\n",
    "            top=0,\n",
    "            bottom=-20,\n",
    "            weight=18,\n",
    "            lateral_model=API_sand(phi=33, Neq=100),\n",
    "        ),\n",
    "        Layer(\n",
    "            name=\"Layer 2 - Firm clay\",\n",
    "            top=-20,\n",
    "            bottom=-40,\n",
    "            weight=18,\n",
    "            lateral_model=API_clay(Su=[50, 70], eps50=0.015, Neq=100),\n",
    "        ),\n",
    "    ],\n",
    ")\n",
    "\n",
    "print(sp)\n"
   ]
  },
  {
   "cell_type": "code",
   "execution_count": null,
   "metadata": {},
   "outputs": [],
   "source": [
    "# Create Model\n",
    "M = Model.create(name=\"\", pile=pile, soil=sp)\n",
    "\n",
    "# create point load\n",
    "M.set_support(elevation=-30, Tx=True)\n",
    "# M.set_support(elevation=0, Rz = True)\n",
    "# M.set_pointdisplacement(elevation=0, Ty=0.1)\n",
    "M.set_pointload(elevation=0, Px=-20000, Py=10e3)\n"
   ]
  },
  {
   "cell_type": "code",
   "execution_count": null,
   "metadata": {},
   "outputs": [],
   "source": [
    "result = simple_winkler_analysis(model=M)\n"
   ]
  },
  {
   "cell_type": "code",
   "execution_count": null,
   "metadata": {},
   "outputs": [],
   "source": [
    "result.plot()\n"
   ]
  },
  {
   "cell_type": "code",
   "execution_count": null,
   "metadata": {},
   "outputs": [],
   "source": [
    "from openpile.construct import Layer\n",
    "from openpile.soilmodels import API_clay\n",
    "\n",
    "# Create a layer\n",
    "layer1 = Layer(\n",
    "    name=\"Soft Clay\",\n",
    "    top=0,\n",
    "    bottom=-10,\n",
    "    weight=18,\n",
    "    lateral_model=API_clay(Su=[30, 35], eps50=[0.01, 0.02], Neq=100),\n",
    ")\n",
    "\n",
    "print(layer1)\n"
   ]
  },
  {
   "cell_type": "code",
   "execution_count": null,
   "metadata": {},
   "outputs": [],
   "source": [
    "M.global_restrained\n"
   ]
  },
  {
   "cell_type": "code",
   "execution_count": 2,
   "metadata": {},
   "outputs": [
    {
     "data": {
      "text/plain": [
       "Text(0.5, 0, 'z [m]')"
      ]
     },
     "execution_count": 2,
     "metadata": {},
     "output_type": "execute_result"
    },
    {
     "data": {
      "image/png": "[encoded data removed]",
      "text/plain": [
       "<Figure size 640x480 with 1 Axes>"
      ]
     },
     "metadata": {},
     "output_type": "display_data"
    }
   ],
   "source": [
    "import matplotlib.pyplot as plt\n",
    "from openpile.utils.tz_curves import api_sand\n",
    "\n",
    "t, z = api_sand(50, 30)\n",
    "\n",
    "plt.plot(z, t)\n",
    "plt.ylabel(\"t [kPa]\")\n",
    "plt.xlabel(\"z [m]\")\n"
   ]
  },
  {
   "cell_type": "code",
   "execution_count": null,
   "metadata": {},
   "outputs": [],
   "source": [
    "from openpile.construct import Pile, SoilProfile, Layer, Model\n",
    "from openpile.soilmodels import API_clay, API_sand\n",
    "\n",
    "# Create a pile instance with two sections of respectively 10m and 30m length.\n",
    "p = Pile.create(\n",
    "    name=\"\",\n",
    "    kind=\"Circular\",\n",
    "    material=\"Steel\",\n",
    "    top_elevation=0,\n",
    "    pile_sections={\n",
    "        \"length\": [10, 30],\n",
    "        \"diameter\": [7.5, 7.5],\n",
    "        \"wall thickness\": [0.07, 0.08],\n",
    "    },\n",
    ")\n",
    "\n",
    "# Create a 40m deep offshore Soil Profile with a 15m water column\n",
    "sp = SoilProfile(\n",
    "    name=\"Offshore Soil Profile\",\n",
    "    top_elevation=0,\n",
    "    water_elevation=15,\n",
    "    layers=[\n",
    "        Layer(\n",
    "            name=\"medium dense sand\",\n",
    "            top=0,\n",
    "            bottom=-20,\n",
    "            weight=18,\n",
    "            lateral_model=API_sand(phi=33, Neq=100),\n",
    "        ),\n",
    "        Layer(\n",
    "            name=\"firm clay\",\n",
    "            top=-20,\n",
    "            bottom=-40,\n",
    "            weight=18,\n",
    "            lateral_model=API_clay(Su=[50, 70], eps50=0.015, Neq=100),\n",
    "        ),\n",
    "    ],\n",
    ")\n",
    "\n",
    "# Create Model\n",
    "M = Model.create(name=\"\", pile=p, soil=sp, distributed_moment=True)\n",
    "\n",
    "# Apply bottom fixity along x-axis\n",
    "M.set_support(elevation=-40, Tx=True)\n",
    "# Apply axial and lateral load\n",
    "M.set_pointload(elevation=0, Px=-20e3, Py=5e3)\n",
    "\n",
    "# Run analysis\n",
    "from openpile.analyses import simple_winkler_analysis\n",
    "\n",
    "Result = simple_winkler_analysis(M)\n",
    "\n",
    "Result.plot()\n"
   ]
  },
  {
   "cell_type": "code",
   "execution_count": null,
   "metadata": {},
   "outputs": [],
   "source": [
    "M.py_springs\n"
   ]
  },
  {
   "cell_type": "code",
   "execution_count": null,
   "metadata": {},
   "outputs": [],
   "source": [
    "layer = Layer(\n",
    "    name=\"Soft Clay\",\n",
    "    top=-10,\n",
    "    bottom=0,\n",
    "    weight=19,\n",
    "    lateral_model=API_clay(Su=[30, 35], eps50=[0.01, 0.02], Neq=100),\n",
    ")\n"
   ]
  },
  {
   "cell_type": "code",
   "execution_count": 1,
   "metadata": {},
   "outputs": [
    {
     "data": {
      "text/plain": [
       "0.7853981633974483"
      ]
     },
     "execution_count": 1,
     "metadata": {},
     "output_type": "execute_result"
    }
   ],
   "source": [
    "from openpile.construct import Pile, SoilProfile, Layer, Model\n",
    "from openpile.soilmodels import API_clay, API_sand\n",
    "\n",
    "# Create a pile instance with two sections of respectively 10m and 30m length.\n",
    "p = Pile.create(\n",
    "    name=\"\",\n",
    "    kind=\"Circular\",\n",
    "    material=\"Steel\",\n",
    "    top_elevation=0,\n",
    "    pile_sections={\n",
    "        \"length\": [10, 30],\n",
    "        \"diameter\": [1, 1],\n",
    "        \"wall thickness\": [0.5, 0.5],\n",
    "    },\n",
    ")\n",
    "\n",
    "p.area\n"
   ]
  },
  {
   "cell_type": "code",
   "execution_count": 9,
   "metadata": {},
   "outputs": [
    {
     "name": "stdout",
     "output_type": "stream",
     "text": [
      "Converged at iteration no. 5\n"
     ]
    },
    {
     "data": {
      "image/png": "[encoded data removed]",
      "text/plain": [
       "<Figure size 640x480 with 4 Axes>"
      ]
     },
     "metadata": {},
     "output_type": "display_data"
    }
   ],
   "source": [
    "from openpile.construct import Pile, SoilProfile, Layer, Model\n",
    "from openpile.soilmodels import Dunkirk_sand, Cowden_clay\n",
    "\n",
    "# Create a pile instance with two sections of respectively 10m and 30m length.\n",
    "p = Pile.create(\n",
    "    name=\"\",\n",
    "    kind=\"Circular\",\n",
    "    material=\"Steel\",\n",
    "    top_elevation=10,\n",
    "    pile_sections={\n",
    "        \"length\": [10, 20],\n",
    "        \"diameter\": [7.5, 7.5],\n",
    "        \"wall thickness\": [0.07, 0.08],\n",
    "    },\n",
    ")\n",
    "\n",
    "# Create a 40m deep offshore Soil Profile with a 15m water column\n",
    "sp = SoilProfile(\n",
    "    name=\"Offshore Soil Profile\",\n",
    "    top_elevation=0,\n",
    "    water_elevation=15,\n",
    "    layers=[\n",
    "        Layer(\n",
    "            name=\"\",\n",
    "            top=0,\n",
    "            bottom=-20,\n",
    "            weight=18,\n",
    "            lateral_model=Cowden_clay(Su=75, G0=60e3),\n",
    "        ),\n",
    "    ],\n",
    ")\n",
    "\n",
    "\n",
    "# Create Model\n",
    "M = Model.create(\n",
    "    name=\"\", pile=p, soil=sp, coarseness=0.5, distributed_moment=False, base_moment=False\n",
    ")\n",
    "\n",
    "# Apply bottom fixity along x-axis\n",
    "M.set_support(elevation=-40, Tx=True)\n",
    "# Apply axial and lateral load\n",
    "M.set_pointload(elevation=0, Px=-20e3, Py=50e3)\n",
    "M.set_pointdisplacement(elevation=0)\n",
    "# Run analysis\n",
    "from openpile.analyses import simple_winkler_analysis\n",
    "\n",
    "Result = simple_winkler_analysis(M)\n",
    "\n",
    "Result.plot()\n"
   ]
  },
  {
   "cell_type": "code",
   "execution_count": 11,
   "metadata": {},
   "outputs": [
    {
     "data": {
      "text/html": [
       "<div>\n",
       "<style scoped>\n",
       "    .dataframe tbody tr th:only-of-type {\n",
       "        vertical-align: middle;\n",
       "    }\n",
       "\n",
       "    .dataframe tbody tr th {\n",
       "        vertical-align: top;\n",
       "    }\n",
       "\n",
       "    .dataframe thead th {\n",
       "        text-align: right;\n",
       "    }\n",
       "</style>\n",
       "<table border=\"1\" class=\"dataframe\">\n",
       "  <thead>\n",
       "    <tr style=\"text-align: right;\">\n",
       "      <th></th>\n",
       "      <th>Elevation [m]</th>\n",
       "      <th>N [kN]</th>\n",
       "      <th>V [kN]</th>\n",
       "      <th>M [kNm]</th>\n",
       "    </tr>\n",
       "  </thead>\n",
       "  <tbody>\n",
       "    <tr>\n",
       "      <th>0</th>\n",
       "      <td>0.0</td>\n",
       "      <td>-20000.0</td>\n",
       "      <td>49999.999785</td>\n",
       "      <td>-0.000020</td>\n",
       "    </tr>\n",
       "    <tr>\n",
       "      <th>1</th>\n",
       "      <td>-0.5</td>\n",
       "      <td>-20000.0</td>\n",
       "      <td>48986.438288</td>\n",
       "      <td>-24999.999913</td>\n",
       "    </tr>\n",
       "    <tr>\n",
       "      <th>2</th>\n",
       "      <td>-0.5</td>\n",
       "      <td>-20000.0</td>\n",
       "      <td>48986.437917</td>\n",
       "      <td>-24748.232625</td>\n",
       "    </tr>\n",
       "    <tr>\n",
       "      <th>3</th>\n",
       "      <td>-1.0</td>\n",
       "      <td>-20000.0</td>\n",
       "      <td>47934.336933</td>\n",
       "      <td>-49241.451584</td>\n",
       "    </tr>\n",
       "    <tr>\n",
       "      <th>4</th>\n",
       "      <td>-1.0</td>\n",
       "      <td>-20000.0</td>\n",
       "      <td>47934.336605</td>\n",
       "      <td>-48980.012554</td>\n",
       "    </tr>\n",
       "    <tr>\n",
       "      <th>...</th>\n",
       "      <td>...</td>\n",
       "      <td>...</td>\n",
       "      <td>...</td>\n",
       "      <td>...</td>\n",
       "    </tr>\n",
       "    <tr>\n",
       "      <th>155</th>\n",
       "      <td>-39.0</td>\n",
       "      <td>-20000.0</td>\n",
       "      <td>-4100.114507</td>\n",
       "      <td>-1566.073084</td>\n",
       "    </tr>\n",
       "    <tr>\n",
       "      <th>156</th>\n",
       "      <td>-39.0</td>\n",
       "      <td>-20000.0</td>\n",
       "      <td>-4100.117580</td>\n",
       "      <td>-2066.537472</td>\n",
       "    </tr>\n",
       "    <tr>\n",
       "      <th>157</th>\n",
       "      <td>-39.5</td>\n",
       "      <td>-20000.0</td>\n",
       "      <td>-2074.715227</td>\n",
       "      <td>-16.478682</td>\n",
       "    </tr>\n",
       "    <tr>\n",
       "      <th>158</th>\n",
       "      <td>-39.5</td>\n",
       "      <td>-20000.0</td>\n",
       "      <td>-2074.738030</td>\n",
       "      <td>-521.999806</td>\n",
       "    </tr>\n",
       "    <tr>\n",
       "      <th>159</th>\n",
       "      <td>-40.0</td>\n",
       "      <td>-20000.0</td>\n",
       "      <td>0.049542</td>\n",
       "      <td>515.369209</td>\n",
       "    </tr>\n",
       "  </tbody>\n",
       "</table>\n",
       "<p>160 rows × 4 columns</p>\n",
       "</div>"
      ],
      "text/plain": [
       "     Elevation [m]   N [kN]        V [kN]       M [kNm]\n",
       "0              0.0 -20000.0  49999.999785     -0.000020\n",
       "1             -0.5 -20000.0  48986.438288 -24999.999913\n",
       "2             -0.5 -20000.0  48986.437917 -24748.232625\n",
       "3             -1.0 -20000.0  47934.336933 -49241.451584\n",
       "4             -1.0 -20000.0  47934.336605 -48980.012554\n",
       "..             ...      ...           ...           ...\n",
       "155          -39.0 -20000.0  -4100.114507  -1566.073084\n",
       "156          -39.0 -20000.0  -4100.117580  -2066.537472\n",
       "157          -39.5 -20000.0  -2074.715227    -16.478682\n",
       "158          -39.5 -20000.0  -2074.738030   -521.999806\n",
       "159          -40.0 -20000.0      0.049542    515.369209\n",
       "\n",
       "[160 rows x 4 columns]"
      ]
     },
     "execution_count": 11,
     "metadata": {},
     "output_type": "execute_result"
    }
   ],
   "source": [
    "Result.forces\n"
   ]
  },
  {
   "cell_type": "code",
   "execution_count": null,
   "metadata": {},
   "outputs": [],
   "source": []
  }
 ],
 "metadata": {
  "kernelspec": {
   "display_name": ".venv",
   "language": "python",
   "name": "python3"
  },
  "language_info": {
   "codemirror_mode": {
    "name": "ipython",
    "version": 3
   },
   "file_extension": ".py",
   "mimetype": "text/x-python",
   "name": "python",
   "nbconvert_exporter": "python",
   "pygments_lexer": "ipython3",
   "version": "3.7.8"
  },
  "orig_nbformat": 4,
  "vscode": {
   "interpreter": {
    "hash": "cbaae394acf5e528bdcdac8f38f8f9c53f7fa63e5b576ba2affc58787d65d7fc"
   }
  }
 },
 "nbformat": 4,
 "nbformat_minor": 2
}
