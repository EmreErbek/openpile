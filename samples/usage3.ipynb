{
 "cells": [
  {
   "cell_type": "code",
   "execution_count": null,
   "metadata": {},
   "outputs": [],
   "source": [
    "# import libraries\n",
    "import matplotlib.pyplot as plt\n",
    "from openpile.construct import Pile, SoilProfile, Model, Layer\n",
    "from openpile.soilmodels import API_sand, API_clay\n",
    "from openpile.utils.py_curves import api_sand\n",
    "from openpile.analyses import simple_winkler_analysis"
   ]
  },
  {
   "cell_type": "code",
   "execution_count": null,
   "metadata": {},
   "outputs": [],
   "source": [
    "\n",
    "from openpile.construct import Pile, SoilProfile, Model, Layer\n",
    "from openpile.soilmodels import API_sand, API_clay\n",
    "\n",
    "# create pile\n",
    "pile = Pile.create(kind='Circular', \n",
    "                   material='Steel', \n",
    "                   top_elevation=0, \n",
    "                   pile_sections={'length':[40],'diameter':[2], 'wall thickness':[0.08]})\n",
    "\n",
    "# Create a 40m deep offshore Soil Profile with a 15m water column\n",
    "sp = SoilProfile(\n",
    "    name=\"Offshore Soil Profile\",\n",
    "    top_elevation=0,\n",
    "    water_elevation=15,\n",
    "    layers=[\n",
    "        Layer(\n",
    "            name='Layer 1 - medium dense sand',\n",
    "            top=0,\n",
    "            bottom=-20,\n",
    "            weight=18,\n",
    "            lateral_model= API_sand(phi=33, Neq=100)\n",
    "        ),\n",
    "        Layer(\n",
    "            name='Layer 2 - Firm clay',\n",
    "            top=-20,\n",
    "            bottom=-40,\n",
    "            weight=18,\n",
    "            lateral_model= API_clay(Su=[50, 70], eps50=0.015, Neq=100)\n",
    "        ),\n",
    "    ]\n",
    ")\n",
    "\n",
    "print(sp)"
   ]
  },
  {
   "cell_type": "code",
   "execution_count": null,
   "metadata": {},
   "outputs": [],
   "source": [
    "# Create Model \n",
    "M = Model.create(name=\"\", pile=pile, soil=sp)\n",
    "\n",
    "# create point load\n",
    "M.set_support(elevation=-30, Tx = True)\n",
    "# M.set_support(elevation=0, Rz = True)\n",
    "# M.set_pointdisplacement(elevation=0, Ty=0.1)\n",
    "M.set_pointload(elevation=0,Px=-20000, Py = 10e3)\n"
   ]
  },
  {
   "cell_type": "code",
   "execution_count": null,
   "metadata": {},
   "outputs": [],
   "source": [
    "result = simple_winkler_analysis(model=M)"
   ]
  },
  {
   "cell_type": "code",
   "execution_count": null,
   "metadata": {},
   "outputs": [],
   "source": [
    "result.plot()"
   ]
  },
  {
   "cell_type": "code",
   "execution_count": null,
   "metadata": {},
   "outputs": [],
   "source": [
    "from openpile.construct import Layer\n",
    "from openpile.soilmodels import API_clay\n",
    "    \n",
    "# Create a layer\n",
    "layer1 = Layer(name='Soft Clay',\n",
    "               top=0,\n",
    "               bottom=-10,\n",
    "               weight=18,\n",
    "               lateral_model=API_clay(Su=[30,35], eps50=[0.01, 0.02], Neq=100), )\n",
    "\n",
    "print(layer1)"
   ]
  },
  {
   "cell_type": "code",
   "execution_count": null,
   "metadata": {},
   "outputs": [],
   "source": [
    "M.global_restrained"
   ]
  },
  {
   "cell_type": "code",
   "execution_count": null,
   "metadata": {},
   "outputs": [],
   "source": [
    "import matplotlib.pyplot as plt\n",
    "from openpile.utils.py_curves import api_sand\n",
    "\n",
    "p, y = api_sand(sig=50, # vertical stress in kPa \n",
    "                X = 5, # depth in meter\n",
    "                phi = 35, # internal angle of friction \n",
    "                D = 5, # the pile diameter\n",
    "                below_water_table=True,\n",
    "                Neq=1, # static curve\n",
    "                )\n",
    "\n",
    "plt.plot(y,p)\n",
    "plt.ylabel('p [kN/m/m]')\n",
    "plt.xlabel('y [m]')"
   ]
  },
  {
   "cell_type": "code",
   "execution_count": null,
   "metadata": {},
   "outputs": [],
   "source": [
    "from openpile.construct import Pile, SoilProfile, Layer, Model\n",
    "from openpile.soilmodels import API_clay, API_sand\n",
    "\n",
    "# Create a pile instance with two sections of respectively 10m and 30m length.\n",
    "p = Pile.create(name = \"\",\n",
    "        kind='Circular',\n",
    "        material='Steel',\n",
    "        top_elevation = 0,\n",
    "        pile_sections={\n",
    "            'length':[10,30],\n",
    "            'diameter':[7.5,7.5],\n",
    "            'wall thickness':[0.07, 0.08],\n",
    "        }\n",
    "    )\n",
    "\n",
    "# Create a 40m deep offshore Soil Profile with a 15m water column\n",
    "sp = SoilProfile(\n",
    "    name=\"Offshore Soil Profile\",\n",
    "    top_elevation=0,\n",
    "    water_elevation=15,\n",
    "    layers=[\n",
    "        Layer(\n",
    "            name='medium dense sand',\n",
    "            top=0,\n",
    "            bottom=-20,\n",
    "            weight=18,\n",
    "            lateral_model= API_sand(phi=33, Neq=100)\n",
    "        ),\n",
    "        Layer(\n",
    "            name='firm clay',\n",
    "            top=-20,\n",
    "            bottom=-40,\n",
    "            weight=18,\n",
    "            lateral_model= API_clay(Su=[50, 70], eps50=0.015, Neq=100)\n",
    "        ),\n",
    "    ]\n",
    ")\n",
    "\n",
    "# Create Model \n",
    "M = Model.create(name=\"\", pile=p, soil=sp, distributed_moment=True)\n",
    "\n",
    "# Apply bottom fixity along x-axis \n",
    "M.set_support(elevation=-40, Tx = True)\n",
    "# Apply axial and lateral load\n",
    "M.set_pointload(elevation=0,Px=-20e3, Py = 5e3)\n",
    "\n",
    "# Run analysis\n",
    "from openpile.analyses import simple_winkler_analysis\n",
    "\n",
    "Result = simple_winkler_analysis(M)\n",
    "\n",
    "Result.plot()\n"
   ]
  },
  {
   "cell_type": "code",
   "execution_count": null,
   "metadata": {},
   "outputs": [],
   "source": [
    "M.py_springs"
   ]
  },
  {
   "cell_type": "code",
   "execution_count": null,
   "metadata": {},
   "outputs": [],
   "source": [
    "layer = Layer(name='Soft Clay',\n",
    "                        top=-10,\n",
    "                        bottom=0,\n",
    "                        weight=19,\n",
    "                        lateral_model=API_clay(Su=[30,35], eps50=[0.01, 0.02], Neq=100), \n",
    "                    )"
   ]
  },
  {
   "cell_type": "code",
   "execution_count": 1,
   "metadata": {},
   "outputs": [
    {
     "data": {
      "text/plain": [
       "0.7853981633974483"
      ]
     },
     "execution_count": 1,
     "metadata": {},
     "output_type": "execute_result"
    }
   ],
   "source": [
    "from openpile.construct import Pile, SoilProfile, Layer, Model\n",
    "from openpile.soilmodels import API_clay, API_sand\n",
    "\n",
    "# Create a pile instance with two sections of respectively 10m and 30m length.\n",
    "p = Pile.create(name = \"\",\n",
    "        kind='Circular',\n",
    "        material='Steel',\n",
    "        top_elevation = 0,\n",
    "        pile_sections={\n",
    "            'length':[10,30],\n",
    "            'diameter':[1,1],\n",
    "            'wall thickness':[0.5, 0.5],\n",
    "        }\n",
    "    )\n",
    "\n",
    "p.area"
   ]
  },
  {
   "cell_type": "code",
   "execution_count": null,
   "metadata": {},
   "outputs": [],
   "source": []
  }
 ],
 "metadata": {
  "kernelspec": {
   "display_name": ".venv",
   "language": "python",
   "name": "python3"
  },
  "language_info": {
   "codemirror_mode": {
    "name": "ipython",
    "version": 3
   },
   "file_extension": ".py",
   "mimetype": "text/x-python",
   "name": "python",
   "nbconvert_exporter": "python",
   "pygments_lexer": "ipython3",
   "version": "3.7.8"
  },
  "orig_nbformat": 4,
  "vscode": {
   "interpreter": {
    "hash": "cbaae394acf5e528bdcdac8f38f8f9c53f7fa63e5b576ba2affc58787d65d7fc"
   }
  }
 },
 "nbformat": 4,
 "nbformat_minor": 2
}
