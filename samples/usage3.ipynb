{
 "cells": [
  {
   "cell_type": "code",
   "execution_count": null,
   "metadata": {},
   "outputs": [],
   "source": [
    "# import libraries\n",
    "import matplotlib.pyplot as plt\n",
    "from openpile.construct import Pile, Mesh\n",
    "from openpile.analyses import simple_beam_analysis\n",
    "from openpile.utils.graphics import connectivity_plot"
   ]
  },
  {
   "cell_type": "code",
   "execution_count": null,
   "metadata": {},
   "outputs": [],
   "source": [
    "# create pile\n",
    "pile = Pile.create(kind='Circular',\n",
    "        material='Steel',\n",
    "        top_elevation = 0,\n",
    "        pile_sections={\n",
    "            'length':[10,30],\n",
    "            'diameter':[7.5,7.5],\n",
    "            'wall thickness':[0.07, 0.08],\n",
    "        } \n",
    "    )"
   ]
  },
  {
   "cell_type": "code",
   "execution_count": null,
   "metadata": {},
   "outputs": [],
   "source": [
    "print(pile)"
   ]
  },
  {
   "cell_type": "code",
   "execution_count": null,
   "metadata": {},
   "outputs": [],
   "source": [
    "# create mesh\n",
    "mesh = Mesh.create(pile=pile, coarseness=5)"
   ]
  },
  {
   "cell_type": "code",
   "execution_count": null,
   "metadata": {},
   "outputs": [],
   "source": [
    "# create point load\n",
    "# mesh.set_support(elevation=-10, )\n",
    "mesh.set_support(elevation=-0, Tx = True, Ty =True)\n",
    "mesh.set_support(elevation=-35, Ty = True)\n",
    "\n",
    "mesh.set_pointload(elevation=-40,Py=200,Px=-100,Mz=-200)"
   ]
  },
  {
   "cell_type": "code",
   "execution_count": null,
   "metadata": {},
   "outputs": [],
   "source": [
    "results = simple_beam_analysis(mesh)\n",
    "results.plot_forces()\n",
    "results.displacements"
   ]
  },
  {
   "cell_type": "code",
   "execution_count": null,
   "metadata": {},
   "outputs": [],
   "source": [
    "b = mesh.plot()"
   ]
  },
  {
   "cell_type": "code",
   "execution_count": null,
   "metadata": {},
   "outputs": [],
   "source": [
    "print(mesh)"
   ]
  },
  {
   "cell_type": "code",
   "execution_count": 1,
   "metadata": {},
   "outputs": [],
   "source": [
    "import matplotlib.pyplot as plt\n",
    "from openpile.core.PYsoilmodels import API_sand, API_clay\n"
   ]
  },
  {
   "cell_type": "code",
   "execution_count": 13,
   "metadata": {},
   "outputs": [],
   "source": [
    "p, y = API_sand(sig=2*9,X=2,phi=40,D=5,Neq=100)"
   ]
  },
  {
   "cell_type": "code",
   "execution_count": 14,
   "metadata": {},
   "outputs": [],
   "source": [
    "p, y = API_clay(sig=2*9,X=2,Su=50,eps50=0.02,D=10,Neq=100)"
   ]
  },
  {
   "cell_type": "code",
   "execution_count": null,
   "metadata": {},
   "outputs": [],
   "source": []
  }
 ],
 "metadata": {
  "kernelspec": {
   "display_name": ".venv",
   "language": "python",
   "name": "python3"
  },
  "language_info": {
   "codemirror_mode": {
    "name": "ipython",
    "version": 3
   },
   "file_extension": ".py",
   "mimetype": "text/x-python",
   "name": "python",
   "nbconvert_exporter": "python",
   "pygments_lexer": "ipython3",
   "version": "3.7.11"
  },
  "orig_nbformat": 4,
  "vscode": {
   "interpreter": {
    "hash": "cbaae394acf5e528bdcdac8f38f8f9c53f7fa63e5b576ba2affc58787d65d7fc"
   }
  }
 },
 "nbformat": 4,
 "nbformat_minor": 2
}
