{
 "cells": [
  {
   "cell_type": "code",
   "execution_count": null,
   "metadata": {},
   "outputs": [],
   "source": [
    "# import libraries\n",
    "import matplotlib.pyplot as plt\n",
    "from openpile.construct import Pile, SoilProfile, Model, Layer\n",
    "from openpile.soilmodels import API_sand, API_clay\n",
    "from openpile.utils.py_curves import api_sand\n",
    "from openpile.analyses import simple_winkler_analysis\n"
   ]
  },
  {
   "cell_type": "code",
   "execution_count": null,
   "metadata": {},
   "outputs": [],
   "source": [
    "from openpile.construct import Pile, SoilProfile, Model, Layer\n",
    "from openpile.soilmodels import API_sand, API_clay\n",
    "\n",
    "# create pile\n",
    "pile = Pile.create(\n",
    "    kind=\"Circular\",\n",
    "    material=\"Steel\",\n",
    "    top_elevation=0,\n",
    "    pile_sections={\"length\": [40], \"diameter\": [2], \"wall thickness\": [0.08]},\n",
    ")\n",
    "\n",
    "# Create a 40m deep offshore Soil Profile with a 15m water column\n",
    "sp = SoilProfile(\n",
    "    name=\"Offshore Soil Profile\",\n",
    "    top_elevation=0,\n",
    "    water_elevation=15,\n",
    "    layers=[\n",
    "        Layer(\n",
    "            name=\"Layer 1 - medium dense sand\",\n",
    "            top=0,\n",
    "            bottom=-20,\n",
    "            weight=18,\n",
    "            lateral_model=API_sand(phi=33, Neq=100),\n",
    "        ),\n",
    "        Layer(\n",
    "            name=\"Layer 2 - Firm clay\",\n",
    "            top=-20,\n",
    "            bottom=-40,\n",
    "            weight=18,\n",
    "            lateral_model=API_clay(Su=[50, 70], eps50=0.015, Neq=100),\n",
    "        ),\n",
    "    ],\n",
    ")\n",
    "\n",
    "print(sp)\n"
   ]
  },
  {
   "cell_type": "code",
   "execution_count": null,
   "metadata": {},
   "outputs": [],
   "source": [
    "# Create Model\n",
    "M = Model.create(name=\"\", pile=pile, soil=sp)\n",
    "\n",
    "# create point load\n",
    "M.set_support(elevation=-30, Tx=True)\n",
    "# M.set_support(elevation=0, Rz = True)\n",
    "# M.set_pointdisplacement(elevation=0, Ty=0.1)\n",
    "M.set_pointload(elevation=0, Px=-20000, Py=10e3)\n"
   ]
  },
  {
   "cell_type": "code",
   "execution_count": null,
   "metadata": {},
   "outputs": [],
   "source": [
    "result = simple_winkler_analysis(model=M)\n"
   ]
  },
  {
   "cell_type": "code",
   "execution_count": null,
   "metadata": {},
   "outputs": [],
   "source": [
    "result.plot()\n"
   ]
  },
  {
   "cell_type": "code",
   "execution_count": null,
   "metadata": {},
   "outputs": [],
   "source": [
    "from openpile.construct import Layer\n",
    "from openpile.soilmodels import API_clay\n",
    "\n",
    "# Create a layer\n",
    "layer1 = Layer(\n",
    "    name=\"Soft Clay\",\n",
    "    top=0,\n",
    "    bottom=-10,\n",
    "    weight=18,\n",
    "    lateral_model=API_clay(Su=[30, 35], eps50=[0.01, 0.02], Neq=100),\n",
    ")\n",
    "\n",
    "print(layer1)\n"
   ]
  },
  {
   "cell_type": "code",
   "execution_count": null,
   "metadata": {},
   "outputs": [],
   "source": [
    "M.global_restrained\n"
   ]
  },
  {
   "cell_type": "code",
   "execution_count": 2,
   "metadata": {},
   "outputs": [
    {
     "data": {
      "text/plain": [
       "Text(0.5, 0, 'z [m]')"
      ]
     },
     "execution_count": 2,
     "metadata": {},
     "output_type": "execute_result"
    },
    {
     "data": {
      "image/png": "[encoded data removed]",
      "text/plain": [
       "<Figure size 640x480 with 1 Axes>"
      ]
     },
     "metadata": {},
     "output_type": "display_data"
    }
   ],
   "source": [
    "import matplotlib.pyplot as plt\n",
    "from openpile.utils.tz_curves import api_sand\n",
    "\n",
    "t, z = api_sand(50, 30)\n",
    "\n",
    "plt.plot(z, t)\n",
    "plt.ylabel(\"t [kPa]\")\n",
    "plt.xlabel(\"z [m]\")\n"
   ]
  },
  {
   "cell_type": "code",
   "execution_count": null,
   "metadata": {},
   "outputs": [],
   "source": [
    "from openpile.construct import Pile, SoilProfile, Layer, Model\n",
    "from openpile.soilmodels import API_clay, API_sand\n",
    "\n",
    "# Create a pile instance with two sections of respectively 10m and 30m length.\n",
    "p = Pile.create(\n",
    "    name=\"\",\n",
    "    kind=\"Circular\",\n",
    "    material=\"Steel\",\n",
    "    top_elevation=0,\n",
    "    pile_sections={\n",
    "        \"length\": [10, 30],\n",
    "        \"diameter\": [7.5, 7.5],\n",
    "        \"wall thickness\": [0.07, 0.08],\n",
    "    },\n",
    ")\n",
    "\n",
    "# Create a 40m deep offshore Soil Profile with a 15m water column\n",
    "sp = SoilProfile(\n",
    "    name=\"Offshore Soil Profile\",\n",
    "    top_elevation=0,\n",
    "    water_elevation=15,\n",
    "    layers=[\n",
    "        Layer(\n",
    "            name=\"medium dense sand\",\n",
    "            top=0,\n",
    "            bottom=-20,\n",
    "            weight=18,\n",
    "            lateral_model=API_sand(phi=33, Neq=100),\n",
    "        ),\n",
    "        Layer(\n",
    "            name=\"firm clay\",\n",
    "            top=-20,\n",
    "            bottom=-40,\n",
    "            weight=18,\n",
    "            lateral_model=API_clay(Su=[50, 70], eps50=0.015, Neq=100),\n",
    "        ),\n",
    "    ],\n",
    ")\n",
    "\n",
    "# Create Model\n",
    "M = Model.create(name=\"\", pile=p, soil=sp, distributed_moment=True)\n",
    "\n",
    "# Apply bottom fixity along x-axis\n",
    "M.set_support(elevation=-40, Tx=True)\n",
    "# Apply axial and lateral load\n",
    "M.set_pointload(elevation=0, Px=-20e3, Py=5e3)\n",
    "\n",
    "# Run analysis\n",
    "from openpile.analyses import simple_winkler_analysis\n",
    "\n",
    "Result = simple_winkler_analysis(M)\n",
    "\n",
    "Result.plot()\n"
   ]
  },
  {
   "cell_type": "code",
   "execution_count": null,
   "metadata": {},
   "outputs": [],
   "source": [
    "M.py_springs\n"
   ]
  },
  {
   "cell_type": "code",
   "execution_count": null,
   "metadata": {},
   "outputs": [],
   "source": [
    "layer = Layer(\n",
    "    name=\"Soft Clay\",\n",
    "    top=-10,\n",
    "    bottom=0,\n",
    "    weight=19,\n",
    "    lateral_model=API_clay(Su=[30, 35], eps50=[0.01, 0.02], Neq=100),\n",
    ")\n"
   ]
  },
  {
   "cell_type": "code",
   "execution_count": 1,
   "metadata": {},
   "outputs": [
    {
     "data": {
      "text/plain": [
       "0.7853981633974483"
      ]
     },
     "execution_count": 1,
     "metadata": {},
     "output_type": "execute_result"
    }
   ],
   "source": [
    "from openpile.construct import Pile, SoilProfile, Layer, Model\n",
    "from openpile.soilmodels import API_clay, API_sand\n",
    "\n",
    "# Create a pile instance with two sections of respectively 10m and 30m length.\n",
    "p = Pile.create(\n",
    "    name=\"\",\n",
    "    kind=\"Circular\",\n",
    "    material=\"Steel\",\n",
    "    top_elevation=0,\n",
    "    pile_sections={\n",
    "        \"length\": [10, 30],\n",
    "        \"diameter\": [1, 1],\n",
    "        \"wall thickness\": [0.5, 0.5],\n",
    "    },\n",
    ")\n",
    "\n",
    "p.area\n"
   ]
  },
  {
   "cell_type": "code",
   "execution_count": 2,
   "metadata": {},
   "outputs": [
    {
     "name": "stdout",
     "output_type": "stream",
     "text": [
      "py springs have negative or NaN values.\n",
      "if using PISA type springs, this can be due to parameters behind out of the parameter space.\n",
      "                Please check that: 2 < L/D < 6.\n",
      "                \n",
      "mt springs have negative or NaN values.\n",
      "if using PISA type springs, this can be due to parameters behind out of the parameter space.\n",
      "                Please check that: 2 < L/D < 6.\n",
      "                \n",
      "Cannot converge. Failure of the pile-soil system.\n",
      "\n",
      "                      Boundary conditions may not be realistic or values may be too large.\n"
     ]
    },
    {
     "data": {
      "image/png": "[encoded data removed]",
      "text/plain": [
       "<Figure size 640x480 with 4 Axes>"
      ]
     },
     "metadata": {},
     "output_type": "display_data"
    }
   ],
   "source": [
    "from openpile.construct import Pile, SoilProfile, Layer, Model\n",
    "from openpile.soilmodels import Dunkirk_sand, Cowden_clay\n",
    "\n",
    "# Create a pile instance with two sections of respectively 10m and 30m length.\n",
    "p = Pile.create(\n",
    "    name=\"\",\n",
    "    kind=\"Circular\",\n",
    "    material=\"Steel\",\n",
    "    top_elevation=0,\n",
    "    pile_sections={\n",
    "        \"length\": [7, 7],\n",
    "        \"diameter\": [2.0, 2.0],\n",
    "        \"wall thickness\": [0.07, 0.08],\n",
    "    },\n",
    ")\n",
    "\n",
    "# Create a 40m deep offshore Soil Profile with a 15m water column\n",
    "sp = SoilProfile(\n",
    "    name=\"Offshore Soil Profile\",\n",
    "    top_elevation=0,\n",
    "    water_elevation=15,\n",
    "    layers=[\n",
    "        Layer(\n",
    "            name=\"\",\n",
    "            top=0,\n",
    "            bottom=-20,\n",
    "            weight=18,\n",
    "            lateral_model=Cowden_clay(Su=75, G0=60e3),\n",
    "        ),\n",
    "    ],\n",
    ")\n",
    "\n",
    "\n",
    "# Create Model\n",
    "M = Model.create(\n",
    "    name=\"\",\n",
    "    pile=p,\n",
    "    soil=sp,\n",
    "    coarseness=0.25,\n",
    ")\n",
    "\n",
    "# Apply bottom fixity along x-axis\n",
    "M.set_support(elevation=-10, Tx=True)\n",
    "# Apply axial and lateral load\n",
    "M.set_pointload(elevation=0, Px=-1e3, Py=0.5e3)\n",
    "# M.set_pointdisplacement(elevation=10, Ty=0.1)\n",
    "# Run analysis\n",
    "from openpile.analyses import simple_winkler_analysis\n",
    "\n",
    "Result = simple_winkler_analysis(M)\n",
    "\n",
    "Result.plot()\n"
   ]
  },
  {
   "cell_type": "code",
   "execution_count": 5,
   "metadata": {},
   "outputs": [
    {
     "data": {
      "text/html": [
       "<div>\n",
       "<style scoped>\n",
       "    .dataframe tbody tr th:only-of-type {\n",
       "        vertical-align: middle;\n",
       "    }\n",
       "\n",
       "    .dataframe tbody tr th {\n",
       "        vertical-align: top;\n",
       "    }\n",
       "\n",
       "    .dataframe thead th {\n",
       "        text-align: right;\n",
       "    }\n",
       "</style>\n",
       "<table border=\"1\" class=\"dataframe\">\n",
       "  <thead>\n",
       "    <tr style=\"text-align: right;\">\n",
       "      <th></th>\n",
       "      <th>Elevation [m]</th>\n",
       "      <th>N [kN]</th>\n",
       "      <th>V [kN]</th>\n",
       "      <th>M [kNm]</th>\n",
       "    </tr>\n",
       "  </thead>\n",
       "  <tbody>\n",
       "    <tr>\n",
       "      <th>0</th>\n",
       "      <td>0.00</td>\n",
       "      <td>-1000.0</td>\n",
       "      <td>412.697688</td>\n",
       "      <td>-0.024611</td>\n",
       "    </tr>\n",
       "    <tr>\n",
       "      <th>1</th>\n",
       "      <td>-0.25</td>\n",
       "      <td>-1000.0</td>\n",
       "      <td>398.239236</td>\n",
       "      <td>-103.199033</td>\n",
       "    </tr>\n",
       "    <tr>\n",
       "      <th>2</th>\n",
       "      <td>-0.25</td>\n",
       "      <td>-1000.0</td>\n",
       "      <td>400.092858</td>\n",
       "      <td>-101.452945</td>\n",
       "    </tr>\n",
       "    <tr>\n",
       "      <th>3</th>\n",
       "      <td>-0.50</td>\n",
       "      <td>-1000.0</td>\n",
       "      <td>385.043887</td>\n",
       "      <td>-201.476160</td>\n",
       "    </tr>\n",
       "    <tr>\n",
       "      <th>4</th>\n",
       "      <td>-0.50</td>\n",
       "      <td>-1000.0</td>\n",
       "      <td>386.896400</td>\n",
       "      <td>-199.651978</td>\n",
       "    </tr>\n",
       "    <tr>\n",
       "      <th>...</th>\n",
       "      <td>...</td>\n",
       "      <td>...</td>\n",
       "      <td>...</td>\n",
       "      <td>...</td>\n",
       "    </tr>\n",
       "    <tr>\n",
       "      <th>315</th>\n",
       "      <td>-39.50</td>\n",
       "      <td>-0.0</td>\n",
       "      <td>0.781494</td>\n",
       "      <td>0.475320</td>\n",
       "    </tr>\n",
       "    <tr>\n",
       "      <th>316</th>\n",
       "      <td>-39.50</td>\n",
       "      <td>0.0</td>\n",
       "      <td>0.781390</td>\n",
       "      <td>0.454751</td>\n",
       "    </tr>\n",
       "    <tr>\n",
       "      <th>317</th>\n",
       "      <td>-39.75</td>\n",
       "      <td>-0.0</td>\n",
       "      <td>0.914011</td>\n",
       "      <td>0.259404</td>\n",
       "    </tr>\n",
       "    <tr>\n",
       "      <th>318</th>\n",
       "      <td>-39.75</td>\n",
       "      <td>0.0</td>\n",
       "      <td>0.913913</td>\n",
       "      <td>0.242234</td>\n",
       "    </tr>\n",
       "    <tr>\n",
       "      <th>319</th>\n",
       "      <td>-40.00</td>\n",
       "      <td>-0.0</td>\n",
       "      <td>1.019316</td>\n",
       "      <td>0.013756</td>\n",
       "    </tr>\n",
       "  </tbody>\n",
       "</table>\n",
       "<p>320 rows × 4 columns</p>\n",
       "</div>"
      ],
      "text/plain": [
       "     Elevation [m]  N [kN]      V [kN]     M [kNm]\n",
       "0             0.00 -1000.0  412.697688   -0.024611\n",
       "1            -0.25 -1000.0  398.239236 -103.199033\n",
       "2            -0.25 -1000.0  400.092858 -101.452945\n",
       "3            -0.50 -1000.0  385.043887 -201.476160\n",
       "4            -0.50 -1000.0  386.896400 -199.651978\n",
       "..             ...     ...         ...         ...\n",
       "315         -39.50    -0.0    0.781494    0.475320\n",
       "316         -39.50     0.0    0.781390    0.454751\n",
       "317         -39.75    -0.0    0.914011    0.259404\n",
       "318         -39.75     0.0    0.913913    0.242234\n",
       "319         -40.00    -0.0    1.019316    0.013756\n",
       "\n",
       "[320 rows x 4 columns]"
      ]
     },
     "execution_count": 5,
     "metadata": {},
     "output_type": "execute_result"
    }
   ],
   "source": [
    "Result.forces\n"
   ]
  },
  {
   "cell_type": "code",
   "execution_count": 54,
   "metadata": {},
   "outputs": [
    {
     "data": {
      "text/plain": [
       "array([  0.     , 468.45938, 485.62762, 491.3507 , 494.16937, 495.8204 ,\n",
       "       496.88608, 497.61676, 498.13782, 498.51904, 498.80234, 499.01434,\n",
       "       499.1729 , 499.29028, 499.3754 , 499.43457, 499.47272, 499.4936 ,\n",
       "       499.5    , 499.5    ], dtype=float32)"
      ]
     },
     "execution_count": 54,
     "metadata": {},
     "output_type": "execute_result"
    }
   ],
   "source": [
    "from openpile.utils.Mb_curves import cowden_clay\n",
    "\n",
    "p, y = cowden_clay(20, 75, 60e3, 3, 20)\n",
    "\n",
    "p\n"
   ]
  },
  {
   "cell_type": "code",
   "execution_count": 65,
   "metadata": {},
   "outputs": [],
   "source": [
    "import numpy as np\n",
    "\n",
    "arr = np.array([[1, 2], [-0, 2]])\n"
   ]
  },
  {
   "cell_type": "code",
   "execution_count": 67,
   "metadata": {},
   "outputs": [
    {
     "data": {
      "text/plain": [
       "False"
      ]
     },
     "execution_count": 67,
     "metadata": {},
     "output_type": "execute_result"
    }
   ],
   "source": [
    "(arr < 0).any() and True\n"
   ]
  },
  {
   "cell_type": "code",
   "execution_count": null,
   "metadata": {},
   "outputs": [],
   "source": []
  }
 ],
 "metadata": {
  "kernelspec": {
   "display_name": ".venv",
   "language": "python",
   "name": "python3"
  },
  "language_info": {
   "codemirror_mode": {
    "name": "ipython",
    "version": 3
   },
   "file_extension": ".py",
   "mimetype": "text/x-python",
   "name": "python",
   "nbconvert_exporter": "python",
   "pygments_lexer": "ipython3",
   "version": "3.7.8"
  },
  "orig_nbformat": 4,
  "vscode": {
   "interpreter": {
    "hash": "cbaae394acf5e528bdcdac8f38f8f9c53f7fa63e5b576ba2affc58787d65d7fc"
   }
  }
 },
 "nbformat": 4,
 "nbformat_minor": 2
}
