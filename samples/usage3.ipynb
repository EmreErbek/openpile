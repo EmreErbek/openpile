{
 "cells": [
  {
   "cell_type": "code",
   "execution_count": null,
   "metadata": {},
   "outputs": [],
   "source": [
    "# import libraries\n",
    "import matplotlib.pyplot as plt\n",
    "from openpile.construct import Pile, SoilProfile, Model, Layer\n",
    "from openpile.core.soilmodels import API_sand\n",
    "from openpile.core.py_curves import api_sand\n",
    "from openpile.analyses import simple_winkler_analysis"
   ]
  },
  {
   "cell_type": "code",
   "execution_count": null,
   "metadata": {},
   "outputs": [],
   "source": [
    "# create pile\n",
    "pile = Pile.create(name = \"WTG01\",\n",
    "        kind='Circular',\n",
    "        material='Steel',\n",
    "        top_elevation = 0,\n",
    "        pile_sections={\n",
    "            'length':[10,30],\n",
    "            'diameter':[7.5,7.5],\n",
    "            'wall thickness':[0.07, 0.08],\n",
    "        } \n",
    "    )"
   ]
  },
  {
   "cell_type": "code",
   "execution_count": null,
   "metadata": {},
   "outputs": [],
   "source": [
    "sp = SoilProfile(\n",
    "    name=\"BH01\",\n",
    "    top_elevation=0,\n",
    "    water_elevation=0,\n",
    "    layers=[\n",
    "        Layer(\n",
    "            name='Layer0',\n",
    "            top=0,\n",
    "            bottom=-40,\n",
    "            weight=9,\n",
    "            lateral_model= API_sand(phi=30, Neq=100)\n",
    "        )\n",
    "    ]\n",
    ")"
   ]
  },
  {
   "cell_type": "code",
   "execution_count": null,
   "metadata": {},
   "outputs": [],
   "source": [
    "# create mesh\n",
    "M = Model.create(name=\"\", pile=pile, soil=sp)"
   ]
  },
  {
   "cell_type": "code",
   "execution_count": null,
   "metadata": {},
   "outputs": [],
   "source": [
    "# create point load\n",
    "# mesh.set_support(elevation=-10, )\n",
    "M.set_support(elevation=-40, Tx = True)\n",
    "# M.set_pointdisplacement(elevation=0, Ty=0.1)\n",
    "M.set_pointload(elevation=0,Px=-20000, Py=500000)\n"
   ]
  },
  {
   "cell_type": "code",
   "execution_count": null,
   "metadata": {},
   "outputs": [],
   "source": [
    "result = simple_winkler_analysis(model=M)"
   ]
  },
  {
   "cell_type": "code",
   "execution_count": null,
   "metadata": {},
   "outputs": [],
   "source": [
    "result.plot()"
   ]
  },
  {
   "cell_type": "code",
   "execution_count": null,
   "metadata": {},
   "outputs": [],
   "source": []
  }
 ],
 "metadata": {
  "kernelspec": {
   "display_name": ".venv",
   "language": "python",
   "name": "python3"
  },
  "language_info": {
   "codemirror_mode": {
    "name": "ipython",
    "version": 3
   },
   "file_extension": ".py",
   "mimetype": "text/x-python",
   "name": "python",
   "nbconvert_exporter": "python",
   "pygments_lexer": "ipython3",
   "version": "3.7.11"
  },
  "orig_nbformat": 4,
  "vscode": {
   "interpreter": {
    "hash": "cbaae394acf5e528bdcdac8f38f8f9c53f7fa63e5b576ba2affc58787d65d7fc"
   }
  }
 },
 "nbformat": 4,
 "nbformat_minor": 2
}
