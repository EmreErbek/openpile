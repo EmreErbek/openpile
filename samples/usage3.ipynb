{
 "cells": [
  {
   "cell_type": "code",
   "execution_count": null,
   "metadata": {},
   "outputs": [],
   "source": [
    "from openpile.construct import Pile, SoilProfile, Layer, Model\n",
    "from openpile.soilmodels import API_clay, API_sand\n",
    "\n",
    "\n",
    "p = Pile.create_tubular(\n",
    "    name=\"<pile name>\", top_elevation=0, bottom_elevation=-40, diameter=10, wt=0.050\n",
    ")\n",
    "\n",
    "# Create a 40m deep offshore Soil Profile with a 15m water column\n",
    "sp = SoilProfile(\n",
    "    name=\"Offshore Soil Profile\",\n",
    "    top_elevation=0,\n",
    "    water_line=15,\n",
    "    layers=[\n",
    "        Layer(\n",
    "            name=\"medium dense sand\",\n",
    "            top=0,\n",
    "            bottom=-20,\n",
    "            weight=18,\n",
    "            lateral_model=API_sand(\n",
    "                phi=33,\n",
    "                kind=\"cyclic\",\n",
    "                extension=\"mt_curves\",\n",
    "            ),\n",
    "        ),\n",
    "        Layer(\n",
    "            name=\"firm clay\",\n",
    "            top=-20,\n",
    "            bottom=-40,\n",
    "            weight=18,\n",
    "            lateral_model=API_clay(Su=[50, 70], eps50=0.015, kind=\"cyclic\", extension=\"mt_curves\"),\n",
    "        ),\n",
    "    ],\n",
    ")\n",
    "\n",
    "# Create Model\n",
    "M = Model(name=\"<model name>\", pile=p, soil=sp)\n",
    "\n",
    "# Apply bottom fixity along x-axis\n",
    "M.set_support(elevation=-40, Tx=True)\n",
    "# Apply axial and lateral loads\n",
    "M.set_pointload(elevation=0, Mz=-600e3, Py=30e3)\n",
    "\n",
    "# Run analysis\n",
    "from openpile.analyze import simple_winkler_analysis\n",
    "\n",
    "Result = simple_winkler_analysis(M)\n",
    "\n",
    "# plot the results\n",
    "Result.plot()\n"
   ]
  },
  {
   "cell_type": "code",
   "execution_count": null,
   "metadata": {},
   "outputs": [],
   "source": [
    "Result.deflection\n"
   ]
  },
  {
   "cell_type": "code",
   "execution_count": null,
   "metadata": {},
   "outputs": [],
   "source": [
    "layer = Layer(\n",
    "    name=\"Soft Clay\",\n",
    "    top=-10,\n",
    "    bottom=0,\n",
    "    weight=19,\n",
    "    lateral_model=API_clay(Su=[30, 35], eps50=[0.01, 0.02], Neq=100),\n",
    ")\n"
   ]
  },
  {
   "cell_type": "code",
   "execution_count": null,
   "metadata": {},
   "outputs": [],
   "source": [
    "from openpile.construct import SoilProfile, Layer\n",
    "from openpile.soilmodels import API_sand, API_clay\n",
    "\n",
    "# Create a 40m deep offshore Soil Profile with a 15m water column\n",
    "sp = SoilProfile(\n",
    "    name=\"Offshore Soil Profile\",\n",
    "    top_elevation=0,\n",
    "    water_line=15,\n",
    "    layers=[\n",
    "        Layer(\n",
    "            name=\"medium dense sand\",\n",
    "            top=0,\n",
    "            bottom=-20,\n",
    "            weight=18,\n",
    "            lateral_model=API_sand(phi=33, kind=\"cyclic\"),\n",
    "        ),\n",
    "        Layer(\n",
    "            name=\"firm clay\",\n",
    "            top=-20,\n",
    "            bottom=-40,\n",
    "            weight=18,\n",
    "            lateral_model=API_clay(Su=[50, 70], eps50=0.015, kind=\"cyclic\"),\n",
    "        ),\n",
    "    ],\n",
    ")\n",
    "\n",
    "print(sp)\n"
   ]
  },
  {
   "cell_type": "code",
   "execution_count": null,
   "metadata": {},
   "outputs": [],
   "source": [
    "from openpile.construct import Layer\n",
    "from openpile.soilmodels import API_clay\n",
    "\n",
    "# Create a layer\n",
    "layer1 = Layer(\n",
    "    name=\"Soft Clay\",\n",
    "    top=0,\n",
    "    bottom=-10,\n",
    "    weight=18,\n",
    "    lateral_model=API_clay(Su=[30, 35], eps50=[0.01, 0.02], kind=\"static\"),\n",
    ")\n",
    "\n",
    "print(layer1)\n"
   ]
  },
  {
   "cell_type": "code",
   "execution_count": null,
   "metadata": {},
   "outputs": [],
   "source": [
    "import matplotlib.pyplot as plt\n",
    "from openpile.utils.py_curves import api_sand\n",
    "\n",
    "p, y = api_sand(\n",
    "    sig=50,  # vertical stress in kPa\n",
    "    X=5,  # depth in meter\n",
    "    phi=35,  # internal angle of friction\n",
    "    D=5,  # the pile diameter\n",
    "    below_water_table=True,  # use initial subgrade modulus under water\n",
    "    kind=\"static\",  # static curve\n",
    ")\n",
    "\n",
    "plt.plot(y, p)\n",
    "plt.ylabel(\"p [kN/m]\")\n",
    "plt.xlabel(\"y [m]\")\n"
   ]
  },
  {
   "cell_type": "code",
   "execution_count": null,
   "metadata": {},
   "outputs": [],
   "source": [
    "from openpile.construct import Pile, SoilProfile, Layer, Model\n",
    "from openpile.soilmodels import Dunkirk_sand, Cowden_clay, API_clay\n",
    "\n",
    "# Create a pile instance with two sections of respectively 10m and 30m length.\n",
    "p = Pile.create(\n",
    "    name=\"\",\n",
    "    kind=\"Circular\",\n",
    "    material=\"Steel\",\n",
    "    top_elevation=0,\n",
    "    pile_sections={\n",
    "        \"length\": [6, 6],\n",
    "        \"diameter\": [2.0, 2.0],\n",
    "        \"wall thickness\": [0.07, 0.08],\n",
    "    },\n",
    ")\n",
    "\n",
    "# Create a 40m deep offshore Soil Profile with a 15m water column\n",
    "sp = SoilProfile(\n",
    "    name=\"Offshore Soil Profile\",\n",
    "    top_elevation=0,\n",
    "    water_line=15,\n",
    "    layers=[\n",
    "        Layer(\n",
    "            name=\"blabla 1\",\n",
    "            top=0,\n",
    "            bottom=-10,\n",
    "            weight=18,\n",
    "            lateral_model=Cowden_clay(Su=150, G0=30e3),\n",
    "        ),\n",
    "        Layer(\n",
    "            name=\"ohlalal\",\n",
    "            top=-10,\n",
    "            bottom=-30,\n",
    "            weight=18,\n",
    "            lateral_model=Cowden_clay(Su=150, G0=30e3),\n",
    "        ),\n",
    "    ],\n",
    ")\n",
    "\n",
    "sp.plot()\n"
   ]
  },
  {
   "cell_type": "code",
   "execution_count": null,
   "metadata": {},
   "outputs": [],
   "source": [
    "# import libraries\n",
    "from openpile.construct import Pile, Model\n",
    "from openpile.analyze import simple_beam_analysis\n",
    "\n",
    "# create pile\n",
    "pile = Pile(\n",
    "    name=\"\",\n",
    "    kind=\"Circular\",\n",
    "    material=\"Steel\",\n",
    "    top_elevation=0,\n",
    "    pile_sections={\"length\": [40], \"diameter\": [2], \"wall thickness\": [0.08]},\n",
    ")\n",
    "\n",
    "M = Model(name=\"\", pile=pile)\n",
    "M.set_support(elevation=0, Tx=True, Ty=True)\n",
    "M.set_support(elevation=-40, Ty=True)\n",
    "M.set_pointload(elevation=-20, Py=1000)\n",
    "\n",
    "result = simple_beam_analysis(M)\n"
   ]
  },
  {
   "cell_type": "code",
   "execution_count": null,
   "metadata": {},
   "outputs": [],
   "source": [
    "M.plot()\n"
   ]
  },
  {
   "cell_type": "code",
   "execution_count": null,
   "metadata": {},
   "outputs": [],
   "source": [
    "# import p-y curve for api_sand from openpile.utils\n",
    "from openpile.utils.py_curves import api_sand\n",
    "\n",
    "y, p = api_sand(\n",
    "    sig=50,  # vertical stress in kPa\n",
    "    X=5,  # depth in meter\n",
    "    phi=35,  # internal angle of friction\n",
    "    D=5,  # the pile diameter\n",
    "    below_water_table=True,  # use initial subgrade modulus under water\n",
    "    kind=\"static\",  # static curve\n",
    ")\n",
    "\n",
    "# create a plot of the results with Matplotlib\n",
    "import matplotlib.pyplot as plt\n",
    "\n",
    "plt.plot(y, p)\n",
    "plt.ylabel(\"p [kN/m]\")\n",
    "plt.xlabel(\"y [m]\")\n"
   ]
  },
  {
   "cell_type": "code",
   "execution_count": 5,
   "metadata": {},
   "outputs": [],
   "source": [
    "def durkhop(D: float, r_a: float = 0.3) -> object:\n",
    "\n",
    "    func = lambda x: max(0.9, r_a * (3 - 1.143 * x / D) + 0.343 * x / D)\n",
    "\n",
    "    return func\n"
   ]
  },
  {
   "cell_type": "code",
   "execution_count": 6,
   "metadata": {},
   "outputs": [
    {
     "name": "stdout",
     "output_type": "stream",
     "text": [
      "Converged at iteration no. 3\n"
     ]
    },
    {
     "data": {
      "image/png": "[encoded data removed]",
      "text/plain": [
       "<Figure size 640x480 with 4 Axes>"
      ]
     },
     "metadata": {},
     "output_type": "display_data"
    }
   ],
   "source": [
    "from openpile.construct import Pile, SoilProfile, Layer, Model\n",
    "from openpile.soilmodels import API_clay, API_sand\n",
    "\n",
    "\n",
    "p = Pile.create_tubular(\n",
    "    name=\"<pile name>\", top_elevation=0, bottom_elevation=-40, diameter=7, wt=0.050\n",
    ")\n",
    "\n",
    "# Create a 40m deep offshore Soil Profile with a 15m water column\n",
    "sps = SoilProfile(\n",
    "    name=\"Offshore Soil Profile\",\n",
    "    top_elevation=0,\n",
    "    water_line=15,\n",
    "    layers=[\n",
    "        Layer(\n",
    "            name=\"medium dense sand\",\n",
    "            top=0,\n",
    "            bottom=-40,\n",
    "            weight=18,\n",
    "            lateral_model=API_sand(\n",
    "                phi=33,\n",
    "                kind=\"static\",\n",
    "                extension=\"mt_curves\",\n",
    "            ),\n",
    "        ),\n",
    "    ],\n",
    ")\n",
    "\n",
    "# Create a 40m deep offshore Soil Profile with a 15m water column\n",
    "spc = SoilProfile(\n",
    "    name=\"Offshore Soil Profile\",\n",
    "    top_elevation=0,\n",
    "    water_line=15,\n",
    "    layers=[\n",
    "        Layer(\n",
    "            name=\"medium dense sand\",\n",
    "            top=0,\n",
    "            bottom=-40,\n",
    "            weight=18,\n",
    "            lateral_model=API_sand(\n",
    "                phi=33, kind=\"cyclic\", extension=\"mt_curves\", p_multiplier=durkhop(D=7, r_a=1.0)\n",
    "            ),\n",
    "        ),\n",
    "    ],\n",
    ")\n",
    "\n",
    "# Create Model\n",
    "M = Model(name=\"<model name>\", pile=p, soil=spc)\n",
    "\n",
    "# Apply bottom fixity along x-axis\n",
    "M.set_support(elevation=-40, Tx=True)\n",
    "# Apply axial and lateral loads\n",
    "M.set_pointload(elevation=0, Mz=-600e3, Py=30e3)\n",
    "\n",
    "# Run analysis\n",
    "from openpile.analyze import winkler\n",
    "\n",
    "Result = winkler(M)\n",
    "\n",
    "# plot the results\n",
    "Result.plot()\n"
   ]
  },
  {
   "cell_type": "code",
   "execution_count": null,
   "metadata": {},
   "outputs": [],
   "source": [
    "M.get_py_springs()\n"
   ]
  },
  {
   "cell_type": "code",
   "execution_count": null,
   "metadata": {},
   "outputs": [],
   "source": []
  }
 ],
 "metadata": {
  "kernelspec": {
   "display_name": ".venv",
   "language": "python",
   "name": "python3"
  },
  "language_info": {
   "codemirror_mode": {
    "name": "ipython",
    "version": 3
   },
   "file_extension": ".py",
   "mimetype": "text/x-python",
   "name": "python",
   "nbconvert_exporter": "python",
   "pygments_lexer": "ipython3",
   "version": "3.7.8"
  },
  "orig_nbformat": 4,
  "vscode": {
   "interpreter": {
    "hash": "cbaae394acf5e528bdcdac8f38f8f9c53f7fa63e5b576ba2affc58787d65d7fc"
   }
  }
 },
 "nbformat": 4,
 "nbformat_minor": 2
}
