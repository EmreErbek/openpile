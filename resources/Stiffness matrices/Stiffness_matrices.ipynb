{
 "cells": [
  {
   "cell_type": "code",
   "execution_count": 2,
   "metadata": {},
   "outputs": [],
   "source": [
    "from sympy import init_printing, Symbol, Matrix, diff\n"
   ]
  },
  {
   "cell_type": "code",
   "execution_count": 3,
   "metadata": {},
   "outputs": [],
   "source": [
    "init_printing()\n"
   ]
  },
  {
   "cell_type": "code",
   "execution_count": 4,
   "metadata": {},
   "outputs": [],
   "source": [
    "E = Symbol(\"E\")\n",
    "I = Symbol(\"I\")\n",
    "L = Symbol(\"L\")\n",
    "x = Symbol(\"x\")\n",
    "k1 = Symbol(\"k_i\")\n",
    "k2 = Symbol(\"k_i+1\")\n",
    "\n",
    "\n",
    "N1 = -6 / L**2 + 12 * x / L**3\n",
    "N2 = -4 / L + 6 * x / L**2\n",
    "N3 = 6 / L**2 - 12 * x / L**3\n",
    "N4 = -2 / L + 6 * x / L**2\n",
    "\n",
    "B = Matrix([[N1, N2, N3, N4]])\n",
    "\n",
    "Bt = B.transpose()\n"
   ]
  },
  {
   "cell_type": "code",
   "execution_count": 5,
   "metadata": {},
   "outputs": [
    {
     "data": {
      "text/latex": [
       "$\\displaystyle \\left[\\begin{matrix}12 & 6 L & -12 & 6 L\\\\6 L & 4 L^{2} & - 6 L & 2 L^{2}\\\\-12 & - 6 L & 12 & - 6 L\\\\6 L & 2 L^{2} & - 6 L & 4 L^{2}\\end{matrix}\\right]$"
      ],
      "text/plain": [
       "⎡12   6⋅L   -12   6⋅L ⎤\n",
       "⎢                     ⎥\n",
       "⎢        2           2⎥\n",
       "⎢6⋅L  4⋅L   -6⋅L  2⋅L ⎥\n",
       "⎢                     ⎥\n",
       "⎢-12  -6⋅L   12   -6⋅L⎥\n",
       "⎢                     ⎥\n",
       "⎢        2           2⎥\n",
       "⎣6⋅L  2⋅L   -6⋅L  4⋅L ⎦"
      ]
     },
     "execution_count": 5,
     "metadata": {},
     "output_type": "execute_result"
    }
   ],
   "source": [
    "(Bt * E * I * B).integrate((x, 0, L)) * L**3 / (E * I)\n"
   ]
  },
  {
   "attachments": {},
   "cell_type": "markdown",
   "metadata": {},
   "source": [
    "### p-y spring consistent stiffness matrix"
   ]
  },
  {
   "cell_type": "code",
   "execution_count": 7,
   "metadata": {},
   "outputs": [
    {
     "data": {
      "text/latex": [
       "$\\displaystyle \\left[\\begin{matrix}\\frac{2 L}{7} & \\frac{L^{2}}{28} & - \\frac{2 L^{2}}{105} & \\frac{9 L}{140} & - \\frac{L^{2}}{60}\\\\\\frac{L^{2}}{28} & \\frac{L^{3}}{168} & - \\frac{L^{3}}{420} & \\frac{L^{2}}{70} & - \\frac{L^{3}}{280}\\\\- \\frac{2 L^{2}}{105} & - \\frac{L^{3}}{420} & \\frac{L^{3}}{420} & \\frac{L^{2}}{420} & 0\\\\\\frac{9 L}{140} & \\frac{L^{2}}{70} & \\frac{L^{2}}{420} & \\frac{3 L}{35} & - \\frac{L^{2}}{60}\\\\- \\frac{L^{2}}{60} & - \\frac{L^{3}}{280} & 0 & - \\frac{L^{2}}{60} & \\frac{L^{3}}{280}\\end{matrix}\\right]$"
      ],
      "text/plain": [
       "⎡          2       2           2 ⎤\n",
       "⎢ 2⋅L     L    -2⋅L    9⋅L   -L  ⎥\n",
       "⎢ ───     ──   ──────  ───   ────⎥\n",
       "⎢  7      28    105    140    60 ⎥\n",
       "⎢                                ⎥\n",
       "⎢   2      3      3      2     3 ⎥\n",
       "⎢  L      L     -L      L    -L  ⎥\n",
       "⎢  ──    ───    ────    ──   ────⎥\n",
       "⎢  28    168    420     70   280 ⎥\n",
       "⎢                                ⎥\n",
       "⎢    2     3      3      2       ⎥\n",
       "⎢-2⋅L    -L      L      L        ⎥\n",
       "⎢──────  ────   ───    ───    0  ⎥\n",
       "⎢ 105    420    420    420       ⎥\n",
       "⎢                                ⎥\n",
       "⎢          2      2            2 ⎥\n",
       "⎢ 9⋅L     L      L     3⋅L   -L  ⎥\n",
       "⎢ ───     ──    ───    ───   ────⎥\n",
       "⎢ 140     70    420     35    60 ⎥\n",
       "⎢                                ⎥\n",
       "⎢   2      3             2     3 ⎥\n",
       "⎢ -L     -L            -L     L  ⎥\n",
       "⎢ ────   ────    0     ────  ─── ⎥\n",
       "⎣  60    280            60   280 ⎦"
      ]
     },
     "execution_count": 7,
     "metadata": {},
     "output_type": "execute_result"
    }
   ],
   "source": [
    "# upper part of element to be multiplied by atiffnes\n",
    "\n",
    "N1 = 1 - 3 * x**2 / L**2 + 2 * x**3 / L**3\n",
    "N2 = x - 2 * x**2 / L + x**3 / L**2\n",
    "N3 = 3 * x**2 / L**2 - 2 * x**3 / L**3\n",
    "N4 = -(x**2) / L + x**3 / L**2\n",
    "\n",
    "B = Matrix([[N1, N2, (-N2 - N4), N3, N4]])\n",
    "\n",
    "\n",
    "Bt = B.transpose()\n",
    "\n",
    "\n",
    "(Bt * ((1 - (x / L))) * B).integrate((x, 0, L))\n"
   ]
  },
  {
   "cell_type": "code",
   "execution_count": 8,
   "metadata": {},
   "outputs": [
    {
     "data": {
      "text/latex": [
       "$\\displaystyle \\left[\\begin{matrix}\\frac{3 L}{35} & \\frac{L^{2}}{60} & - \\frac{L^{2}}{420} & \\frac{9 L}{140} & - \\frac{L^{2}}{70}\\\\\\frac{L^{2}}{60} & \\frac{L^{3}}{280} & 0 & \\frac{L^{2}}{60} & - \\frac{L^{3}}{280}\\\\- \\frac{L^{2}}{420} & 0 & \\frac{L^{3}}{420} & \\frac{2 L^{2}}{105} & - \\frac{L^{3}}{420}\\\\\\frac{9 L}{140} & \\frac{L^{2}}{60} & \\frac{2 L^{2}}{105} & \\frac{2 L}{7} & - \\frac{L^{2}}{28}\\\\- \\frac{L^{2}}{70} & - \\frac{L^{3}}{280} & - \\frac{L^{3}}{420} & - \\frac{L^{2}}{28} & \\frac{L^{3}}{168}\\end{matrix}\\right]$"
      ],
      "text/plain": [
       "⎡        2     2           2 ⎤\n",
       "⎢3⋅L    L    -L    9⋅L   -L  ⎥\n",
       "⎢───    ──   ────  ───   ────⎥\n",
       "⎢ 35    60   420   140    70 ⎥\n",
       "⎢                            ⎥\n",
       "⎢  2     3           2     3 ⎥\n",
       "⎢ L     L           L    -L  ⎥\n",
       "⎢ ──   ───    0     ──   ────⎥\n",
       "⎢ 60   280          60   280 ⎥\n",
       "⎢                            ⎥\n",
       "⎢  2           3      2    3 ⎥\n",
       "⎢-L           L    2⋅L   -L  ⎥\n",
       "⎢────   0    ───   ────  ────⎥\n",
       "⎢420         420   105   420 ⎥\n",
       "⎢                            ⎥\n",
       "⎢        2      2          2 ⎥\n",
       "⎢9⋅L    L    2⋅L   2⋅L   -L  ⎥\n",
       "⎢───    ──   ────  ───   ────⎥\n",
       "⎢140    60   105    7     28 ⎥\n",
       "⎢                            ⎥\n",
       "⎢  2     3     3     2     3 ⎥\n",
       "⎢-L    -L    -L    -L     L  ⎥\n",
       "⎢────  ────  ────  ────  ─── ⎥\n",
       "⎣ 70   280   420    28   168 ⎦"
      ]
     },
     "execution_count": 8,
     "metadata": {},
     "output_type": "execute_result"
    }
   ],
   "source": [
    "# lower part of element to be multiplied by atiffnes\n",
    "\n",
    "N1 = 1 - 3 * x**2 / L**2 + 2 * x**3 / L**3\n",
    "N2 = x - 2 * x**2 / L + x**3 / L**2\n",
    "N3 = 3 * x**2 / L**2 - 2 * x**3 / L**3\n",
    "N4 = -(x**2) / L + x**3 / L**2\n",
    "\n",
    "B = Matrix([[N1, N2, (-N2 - N4), N3, N4]])\n",
    "\n",
    "Bt = B.transpose()\n",
    "\n",
    "(Bt * ((x / L)) * B).integrate((x, 0, L))\n"
   ]
  },
  {
   "cell_type": "code",
   "execution_count": 11,
   "metadata": {},
   "outputs": [
    {
     "data": {
      "image/png": "[encoded data removed]",
      "text/latex": [
       "$\\displaystyle \\left[\\begin{matrix}\\frac{13 L}{35} & \\frac{11 L^{2}}{210} & \\frac{9 L}{70} & - \\frac{13 L^{2}}{420}\\\\\\frac{11 L^{2}}{210} & \\frac{L^{3}}{105} & \\frac{13 L^{2}}{420} & - \\frac{L^{3}}{140}\\\\\\frac{9 L}{70} & \\frac{13 L^{2}}{420} & \\frac{13 L}{35} & - \\frac{11 L^{2}}{210}\\\\- \\frac{13 L^{2}}{420} & - \\frac{L^{3}}{140} & - \\frac{11 L^{2}}{210} & \\frac{L^{3}}{105}\\end{matrix}\\right]$"
      ],
      "text/plain": [
       "⎡             2                2 ⎤\n",
       "⎢ 13⋅L    11⋅L     9⋅L    -13⋅L  ⎥\n",
       "⎢ ────    ─────    ───    ───────⎥\n",
       "⎢  35      210      70      420  ⎥\n",
       "⎢                                ⎥\n",
       "⎢     2      3        2      3   ⎥\n",
       "⎢ 11⋅L      L     13⋅L     -L    ⎥\n",
       "⎢ ─────    ───    ─────    ────  ⎥\n",
       "⎢  210     105     420     140   ⎥\n",
       "⎢                                ⎥\n",
       "⎢             2                2 ⎥\n",
       "⎢  9⋅L    13⋅L    13⋅L    -11⋅L  ⎥\n",
       "⎢  ───    ─────   ────    ───────⎥\n",
       "⎢   70     420     35       210  ⎥\n",
       "⎢                                ⎥\n",
       "⎢     2     3         2       3  ⎥\n",
       "⎢-13⋅L    -L     -11⋅L       L   ⎥\n",
       "⎢───────  ────   ───────    ───  ⎥\n",
       "⎣  420    140      210      105  ⎦"
      ]
     },
     "execution_count": 11,
     "metadata": {},
     "output_type": "execute_result"
    }
   ],
   "source": [
    "N1 = 1 - 3 * x**2 / L**2 + 2 * x**3 / L**3\n",
    "N2 = x - 2 * x**2 / L + x**3 / L**2\n",
    "N3 = 3 * x**2 / L**2 - 2 * x**3 / L**3\n",
    "N4 = -(x**2) / L + x**3 / L**2\n",
    "\n",
    "B = Matrix([[N1, N2, N3, N4]])\n",
    "\n",
    "Bt = B.transpose()\n",
    "\n",
    "M1 = (Bt * B).integrate((x, 0, L))\n",
    "M1\n"
   ]
  },
  {
   "attachments": {},
   "cell_type": "markdown",
   "metadata": {},
   "source": [
    "### Geometric stiffness matrix"
   ]
  },
  {
   "cell_type": "code",
   "execution_count": 9,
   "metadata": {},
   "outputs": [
    {
     "data": {
      "image/png": "[encoded data removed]",
      "text/latex": [
       "$\\displaystyle \\left[\\begin{matrix}\\frac{6}{5 L} & \\frac{1}{10} & - \\frac{6}{5 L} & \\frac{1}{10}\\\\\\frac{1}{10} & \\frac{2 L}{15} & - \\frac{1}{10} & - \\frac{L}{30}\\\\- \\frac{6}{5 L} & - \\frac{1}{10} & \\frac{6}{5 L} & - \\frac{1}{10}\\\\\\frac{1}{10} & - \\frac{L}{30} & - \\frac{1}{10} & \\frac{2 L}{15}\\end{matrix}\\right]$"
      ],
      "text/plain": [
       "⎡ 6            -6         ⎤\n",
       "⎢───   1/10    ───   1/10 ⎥\n",
       "⎢5⋅L           5⋅L        ⎥\n",
       "⎢                         ⎥\n",
       "⎢       2⋅L           -L  ⎥\n",
       "⎢1/10   ───   -1/10   ─── ⎥\n",
       "⎢        15            30 ⎥\n",
       "⎢                         ⎥\n",
       "⎢-6             6         ⎥\n",
       "⎢───   -1/10   ───   -1/10⎥\n",
       "⎢5⋅L           5⋅L        ⎥\n",
       "⎢                         ⎥\n",
       "⎢       -L            2⋅L ⎥\n",
       "⎢1/10   ───   -1/10   ─── ⎥\n",
       "⎣        30            15 ⎦"
      ]
     },
     "execution_count": 9,
     "metadata": {},
     "output_type": "execute_result"
    }
   ],
   "source": [
    "N1 = 1 - 3 * x**2 / L**2 + 2 * x**3 / L**3\n",
    "N2 = x - 2 * x**2 / L + x**3 / L**2\n",
    "N3 = 3 * x**2 / L**2 - 2 * x**3 / L**3\n",
    "N4 = -(x**2) / L + x**3 / L**2\n",
    "\n",
    "B = Matrix([[diff(N1, x), diff(N2, x), diff(N3, x), diff(N4, x)]])\n",
    "\n",
    "Bt = B.transpose()\n",
    "\n",
    "M1 = (Bt * B).integrate((x, 0, L))\n",
    "M1\n"
   ]
  },
  {
   "cell_type": "code",
   "execution_count": 10,
   "metadata": {},
   "outputs": [
    {
     "data": {
      "image/png": "[encoded data removed]",
      "text/latex": [
       "$\\displaystyle \\left[\\begin{matrix}- \\frac{6 x}{L^{2}} + \\frac{6 x^{2}}{L^{3}}\\\\1 - \\frac{4 x}{L} + \\frac{3 x^{2}}{L^{2}}\\\\\\frac{6 x}{L^{2}} - \\frac{6 x^{2}}{L^{3}}\\\\- \\frac{2 x}{L} + \\frac{3 x^{2}}{L^{2}}\\end{matrix}\\right]$"
      ],
      "text/plain": [
       "⎡            2 ⎤\n",
       "⎢   6⋅x   6⋅x  ⎥\n",
       "⎢ - ─── + ──── ⎥\n",
       "⎢     2     3  ⎥\n",
       "⎢    L     L   ⎥\n",
       "⎢              ⎥\n",
       "⎢             2⎥\n",
       "⎢    4⋅x   3⋅x ⎥\n",
       "⎢1 - ─── + ────⎥\n",
       "⎢     L      2 ⎥\n",
       "⎢           L  ⎥\n",
       "⎢              ⎥\n",
       "⎢           2  ⎥\n",
       "⎢  6⋅x   6⋅x   ⎥\n",
       "⎢  ─── - ────  ⎥\n",
       "⎢    2     3   ⎥\n",
       "⎢   L     L    ⎥\n",
       "⎢              ⎥\n",
       "⎢            2 ⎥\n",
       "⎢   2⋅x   3⋅x  ⎥\n",
       "⎢ - ─── + ──── ⎥\n",
       "⎢    L      2  ⎥\n",
       "⎣          L   ⎦"
      ]
     },
     "execution_count": 10,
     "metadata": {},
     "output_type": "execute_result"
    }
   ],
   "source": [
    "Bt\n"
   ]
  },
  {
   "attachments": {},
   "cell_type": "markdown",
   "metadata": {},
   "source": [
    "T-z consistent stiffness matrix"
   ]
  },
  {
   "cell_type": "code",
   "execution_count": 5,
   "metadata": {},
   "outputs": [
    {
     "data": {
      "text/latex": [
       "$\\displaystyle \\left[\\begin{matrix}\\frac{L}{4} & \\frac{L}{12}\\\\\\frac{L}{12} & \\frac{L}{12}\\end{matrix}\\right]$"
      ],
      "text/plain": [
       "⎡L   L ⎤\n",
       "⎢─   ──⎥\n",
       "⎢4   12⎥\n",
       "⎢      ⎥\n",
       "⎢L   L ⎥\n",
       "⎢──  ──⎥\n",
       "⎣12  12⎦"
      ]
     },
     "execution_count": 5,
     "metadata": {},
     "output_type": "execute_result"
    }
   ],
   "source": [
    "# upper part of element to be multiplied by atiffnes\n",
    "\n",
    "N1 = 1 - (x / L)\n",
    "N2 = x / L\n",
    "\n",
    "B = Matrix([[N1, N2]])\n",
    "\n",
    "\n",
    "Bt = B.transpose()\n",
    "\n",
    "\n",
    "(Bt * ((1 - (x / L))) * B).integrate((x, 0, L))\n"
   ]
  },
  {
   "cell_type": "markdown",
   "metadata": {},
   "source": []
  },
  {
   "cell_type": "code",
   "execution_count": 6,
   "metadata": {},
   "outputs": [
    {
     "data": {
      "text/latex": [
       "$\\displaystyle \\left[\\begin{matrix}\\frac{L}{12} & \\frac{L}{12}\\\\\\frac{L}{12} & \\frac{L}{4}\\end{matrix}\\right]$"
      ],
      "text/plain": [
       "⎡L   L ⎤\n",
       "⎢──  ──⎥\n",
       "⎢12  12⎥\n",
       "⎢      ⎥\n",
       "⎢L   L ⎥\n",
       "⎢──  ─ ⎥\n",
       "⎣12  4 ⎦"
      ]
     },
     "execution_count": 6,
     "metadata": {},
     "output_type": "execute_result"
    }
   ],
   "source": [
    "# upper part of element to be multiplied by atiffnes\n",
    "\n",
    "N1 = 1 - (x / L)\n",
    "N2 = x / L\n",
    "\n",
    "B = Matrix([[N1, N2]])\n",
    "\n",
    "\n",
    "Bt = B.transpose()\n",
    "\n",
    "\n",
    "(Bt * (((x / L))) * B).integrate((x, 0, L))\n"
   ]
  },
  {
   "cell_type": "code",
   "execution_count": null,
   "metadata": {},
   "outputs": [],
   "source": []
  }
 ],
 "metadata": {
  "kernelspec": {
   "display_name": "Python 3 (ipykernel)",
   "language": "python",
   "name": "python3"
  },
  "language_info": {
   "codemirror_mode": {
    "name": "ipython",
    "version": 3
   },
   "file_extension": ".py",
   "mimetype": "text/x-python",
   "name": "python",
   "nbconvert_exporter": "python",
   "pygments_lexer": "ipython3",
   "version": "3.7.8"
  }
 },
 "nbformat": 4,
 "nbformat_minor": 2
}
